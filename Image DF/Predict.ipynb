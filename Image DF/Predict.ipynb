{
  "nbformat": 4,
  "nbformat_minor": 0,
  "metadata": {
    "colab": {
      "provenance": []
    },
    "kernelspec": {
      "name": "python3",
      "display_name": "Python 3"
    },
    "language_info": {
      "name": "python"
    }
  },
  "cells": [
    {
      "cell_type": "markdown",
      "source": [
        "# importing Libraries"
      ],
      "metadata": {
        "id": "t2Jzz7mzVNKs"
      }
    },
    {
      "cell_type": "code",
      "source": [
        "-import tensorflow as tf\n",
        "from tensorflow.keras.layers import Conv2D, MaxPooling2D, Flatten, Dense\n",
        "from tensorflow.keras.models import Sequential"
      ],
      "metadata": {
        "id": "BiXukItHgnM9"
      },
      "execution_count": null,
      "outputs": []
    },
    {
      "cell_type": "markdown",
      "source": [
        "# Creating sequential Model"
      ],
      "metadata": {
        "id": "5dLRZgaaWXx4"
      }
    },
    {
      "cell_type": "code",
      "source": [
        "model = Sequential([\n",
        "    Conv2D(32, (3, 3), activation='relu', input_shape=(224, 224, 3)),\n",
        "    MaxPooling2D((2, 2)),\n",
        "    Conv2D(64, (3, 3), activation='relu'),\n",
        "    MaxPooling2D((2, 2)),\n",
        "    Flatten(),\n",
        "    Dense(64, activation='relu'),\n",
        "    Dense(1, activation='sigmoid')  # Binary classification output\n",
        "])"
      ],
      "metadata": {
        "id": "hSjPzHQTgnJf"
      },
      "execution_count": null,
      "outputs": []
    },
    {
      "cell_type": "markdown",
      "source": [
        "# Loadind Model"
      ],
      "metadata": {
        "id": "LjOeh2x-Ww31"
      }
    },
    {
      "cell_type": "code",
      "source": [
        "# Assuming you've loaded the model using load_model:\n",
        "model = load_model(\"/content/drive/MyDrive/Image/my_model.h5\")\n",
        "\n",
        "# Load the weights into the loaded model instance:\n",
        "#model.load_weights(\"/content/drive/MyDrive/Image/model_final_weight.h5\")\n",
        "\n",
        "# Compile if necessary (ensure compilation settings match those used during training)\n",
        "model.compile(optimizer='adam',  # Example optimizer\n",
        "                      loss='binary_crossentropy',  # Example loss for binary classification\n",
        "                      metrics=['accuracy'])"
      ],
      "metadata": {
        "colab": {
          "base_uri": "https://localhost:8080/"
        },
        "id": "z3flk4gvf71B",
        "outputId": "0ba27c4f-d85e-4c35-9761-138b7c176edb"
      },
      "execution_count": null,
      "outputs": [
        {
          "output_type": "stream",
          "name": "stderr",
          "text": [
            "WARNING:tensorflow:No training configuration found in the save file, so the model was *not* compiled. Compile it manually.\n"
          ]
        }
      ]
    },
    {
      "cell_type": "markdown",
      "source": [
        "\n",
        "# Predicting Model"
      ],
      "metadata": {
        "id": "gK3NyaPnY6_7"
      }
    },
    {
      "cell_type": "code",
      "source": [
        "import tensorflow as tf\n",
        "from tensorflow.keras.preprocessing import image\n",
        "from tensorflow.keras.models import load_model\n",
        "\n",
        "# Load the trained model (adjust the path if needed)\n",
        "#model = load_model('/content/drive/MyDrive/Image/my_model.h5')\n",
        "\n",
        "# Define the preprocessing function\n",
        "preprocess_input = tf.keras.applications.mobilenet.preprocess_input\n",
        "\n",
        "# Get user input for image path\n",
        "image_path = input(\"Enter the path to the image you want to predict: \")\n",
        "\n",
        "# Load and preprocess the image\n",
        "img = image.load_img(image_path, target_size=(224, 224))\n",
        "img_array = image.img_to_array(img)\n",
        "img_batch = tf.expand_dims(img_array, axis=0)\n",
        "img_preprocessed = preprocess_input(img_batch)\n",
        "\n",
        "# Make prediction\n",
        "predictions = model.predict(img_preprocessed)\n",
        "prediction = predictions[0][0]\n",
        "\n",
        "# Determine predicted class and probability\n",
        "if prediction > 0.5:\n",
        "    predicted_class = \"Real\"\n",
        "else:\n",
        "    predicted_class = \"Fake\"\n",
        "probability = prediction * 100\n",
        "\n",
        "# Display results\n",
        "print(\"Predicted class:\", predicted_class)\n",
        "print(\"Probability:\", probability, \"%\")"
      ],
      "metadata": {
        "colab": {
          "base_uri": "https://localhost:8080/"
        },
        "id": "dRRt9DcvgjMf",
        "outputId": "0ffa23bf-b662-4d48-c644-a2b92d9c07d8"
      },
      "execution_count": null,
      "outputs": [
        {
          "output_type": "stream",
          "name": "stdout",
          "text": [
            "Enter the path to the image you want to predict: /content/drive/MyDrive/Image/real_vs_fake/real-vs-fake/test/fake/00276TOPP4.jpg\n",
            "1/1 [==============================] - 0s 349ms/step\n",
            "Predicted class: Fake\n",
            "Probability: 48.80569875240326 %\n"
          ]
        }
      ]
    },
    {
      "cell_type": "code",
      "source": [
        "import tensorflow as tf\n",
        "from tensorflow.keras.preprocessing import image\n",
        "from tensorflow.keras.models import load_model\n",
        "\n",
        "# Load the trained model (adjust the path if needed)\n",
        "#model = load_model('/content/drive/MyDrive/Image/my_model.h5')  # Provide the full model file path, not just the weights file\n",
        "\n",
        "# Define the preprocessing function\n",
        "preprocess_input = tf.keras.applications.mobilenet.preprocess_input\n",
        "\n",
        "# Get user input for image path\n",
        "image_path = input(\"Enter the path to the image you want to predict: \")\n",
        "\n",
        "# Load and preprocess the image\n",
        "img = image.load_img(image_path, target_size=(224, 224))\n",
        "img_array = image.img_to_array(img)\n",
        "img_batch = tf.expand_dims(img_array, axis=0)\n",
        "img_preprocessed = preprocess_input(img_batch)\n",
        "\n",
        "# Make prediction\n",
        "predictions = model.predict(img_preprocessed)\n",
        "prediction = predictions[0][0]\n",
        "\n",
        "# Determine predicted class and probability\n",
        "if prediction > 0.5:\n",
        "    predicted_class = \"Real\"\n",
        "else:\n",
        "    predicted_class = \"Fake\"\n",
        "probability = prediction * 100\n",
        "\n",
        "# Display results\n",
        "print(\"Predicted class:\", predicted_class)\n",
        "print(\"Probability:\", probability, \"%\")"
      ],
      "metadata": {
        "colab": {
          "base_uri": "https://localhost:8080/"
        },
        "id": "UWqxZjnnhKaw",
        "outputId": "8faa2c92-f56e-4722-f9f5-0a3f8e795824"
      },
      "execution_count": null,
      "outputs": [
        {
          "output_type": "stream",
          "name": "stdout",
          "text": [
            "Enter the path to the image you want to predict: /content/drive/MyDrive/Image/real_vs_fake/real-vs-fake/test/fake/00JEP4Z36Z.jpg\n",
            "1/1 [==============================] - 0s 61ms/step\n",
            "Predicted class: Real\n",
            "Probability: 54.69333529472351 %\n"
          ]
        }
      ]
    }
  ]
}